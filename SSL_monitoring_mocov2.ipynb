{
  "cells": [
    {
      "cell_type": "markdown",
      "metadata": {
        "id": "UkoonTUlR2u7"
      },
      "source": [
        "# **Initialization**"
      ]
    },
    {
      "cell_type": "code",
      "execution_count": null,
      "metadata": {
        "colab": {
          "base_uri": "https://localhost:8080/"
        },
        "id": "VbepXvH-MSyt",
        "outputId": "d1e5385a-d5d5-4793-d30a-28cebdcc1975"
      },
      "outputs": [
        {
          "output_type": "stream",
          "name": "stdout",
          "text": [
            "Number of GPUs: 1\n",
            "Current/Main device: 0\n",
            "Device 0: Tesla T4\n"
          ]
        }
      ],
      "source": [
        "import torch\n",
        "\n",
        "device = torch.device(\"cuda\" if torch.cuda.is_available() else \"cpu\")\n",
        "\n",
        "print(\"Number of GPUs:\", torch.cuda.device_count())\n",
        "print(\"Current/Main device:\", torch.cuda.current_device())\n",
        "\n",
        "for i in range(torch.cuda.device_count()):\n",
        "    print(\"Device {}:\".format(i), torch.cuda.get_device_name(i))"
      ]
    },
    {
      "cell_type": "code",
      "source": [
        "from google.colab import drive\n",
        "drive.mount('/content/gdrive')"
      ],
      "metadata": {
        "colab": {
          "base_uri": "https://localhost:8080/"
        },
        "id": "_RutTRM1F8sm",
        "outputId": "3acca445-d427-484b-ed00-d2b41ab7ccd9"
      },
      "execution_count": null,
      "outputs": [
        {
          "output_type": "stream",
          "name": "stdout",
          "text": [
            "Drive already mounted at /content/gdrive; to attempt to forcibly remount, call drive.mount(\"/content/gdrive\", force_remount=True).\n"
          ]
        }
      ]
    },
    {
      "cell_type": "code",
      "source": [
        "!pip install numba\n",
        "!pip install annoy\n",
        "!pip install pacmap\n",
        "!pip install umap-learn\n",
        "!pip install fastai\n",
        "\n",
        "import pacmap"
      ],
      "metadata": {
        "colab": {
          "base_uri": "https://localhost:8080/"
        },
        "id": "zS6xFchkGDze",
        "outputId": "e0da13d5-6ba0-44aa-9722-b246a9741b0f"
      },
      "execution_count": null,
      "outputs": [
        {
          "output_type": "stream",
          "name": "stdout",
          "text": [
            "Requirement already satisfied: numba in /usr/local/lib/python3.7/dist-packages (0.51.2)\n",
            "Requirement already satisfied: numpy>=1.15 in /usr/local/lib/python3.7/dist-packages (from numba) (1.21.6)\n",
            "Requirement already satisfied: llvmlite<0.35,>=0.34.0.dev0 in /usr/local/lib/python3.7/dist-packages (from numba) (0.34.0)\n",
            "Requirement already satisfied: setuptools in /usr/local/lib/python3.7/dist-packages (from numba) (57.4.0)\n",
            "Requirement already satisfied: annoy in /usr/local/lib/python3.7/dist-packages (1.17.0)\n",
            "Requirement already satisfied: pacmap in /usr/local/lib/python3.7/dist-packages (0.6.3)\n",
            "Requirement already satisfied: annoy>=1.11 in /usr/local/lib/python3.7/dist-packages (from pacmap) (1.17.0)\n",
            "Requirement already satisfied: numpy>=1.20 in /usr/local/lib/python3.7/dist-packages (from pacmap) (1.21.6)\n",
            "Requirement already satisfied: numba>=0.50 in /usr/local/lib/python3.7/dist-packages (from pacmap) (0.51.2)\n",
            "Requirement already satisfied: scikit-learn>=0.20 in /usr/local/lib/python3.7/dist-packages (from pacmap) (1.0.2)\n",
            "Requirement already satisfied: llvmlite<0.35,>=0.34.0.dev0 in /usr/local/lib/python3.7/dist-packages (from numba>=0.50->pacmap) (0.34.0)\n",
            "Requirement already satisfied: setuptools in /usr/local/lib/python3.7/dist-packages (from numba>=0.50->pacmap) (57.4.0)\n",
            "Requirement already satisfied: joblib>=0.11 in /usr/local/lib/python3.7/dist-packages (from scikit-learn>=0.20->pacmap) (1.1.0)\n",
            "Requirement already satisfied: scipy>=1.1.0 in /usr/local/lib/python3.7/dist-packages (from scikit-learn>=0.20->pacmap) (1.4.1)\n",
            "Requirement already satisfied: threadpoolctl>=2.0.0 in /usr/local/lib/python3.7/dist-packages (from scikit-learn>=0.20->pacmap) (3.1.0)\n",
            "Requirement already satisfied: umap-learn in /usr/local/lib/python3.7/dist-packages (0.5.3)\n",
            "Requirement already satisfied: numpy>=1.17 in /usr/local/lib/python3.7/dist-packages (from umap-learn) (1.21.6)\n",
            "Requirement already satisfied: pynndescent>=0.5 in /usr/local/lib/python3.7/dist-packages (from umap-learn) (0.5.7)\n",
            "Requirement already satisfied: scipy>=1.0 in /usr/local/lib/python3.7/dist-packages (from umap-learn) (1.4.1)\n",
            "Requirement already satisfied: scikit-learn>=0.22 in /usr/local/lib/python3.7/dist-packages (from umap-learn) (1.0.2)\n",
            "Requirement already satisfied: tqdm in /usr/local/lib/python3.7/dist-packages (from umap-learn) (4.64.0)\n",
            "Requirement already satisfied: numba>=0.49 in /usr/local/lib/python3.7/dist-packages (from umap-learn) (0.51.2)\n",
            "Requirement already satisfied: llvmlite<0.35,>=0.34.0.dev0 in /usr/local/lib/python3.7/dist-packages (from numba>=0.49->umap-learn) (0.34.0)\n",
            "Requirement already satisfied: setuptools in /usr/local/lib/python3.7/dist-packages (from numba>=0.49->umap-learn) (57.4.0)\n",
            "Requirement already satisfied: joblib>=0.11 in /usr/local/lib/python3.7/dist-packages (from pynndescent>=0.5->umap-learn) (1.1.0)\n",
            "Requirement already satisfied: threadpoolctl>=2.0.0 in /usr/local/lib/python3.7/dist-packages (from scikit-learn>=0.22->umap-learn) (3.1.0)\n",
            "Requirement already satisfied: fastai in /usr/local/lib/python3.7/dist-packages (1.0.61)\n",
            "Requirement already satisfied: fastprogress>=0.2.1 in /usr/local/lib/python3.7/dist-packages (from fastai) (1.0.2)\n",
            "Requirement already satisfied: scipy in /usr/local/lib/python3.7/dist-packages (from fastai) (1.4.1)\n",
            "Requirement already satisfied: nvidia-ml-py3 in /usr/local/lib/python3.7/dist-packages (from fastai) (7.352.0)\n",
            "Requirement already satisfied: bottleneck in /usr/local/lib/python3.7/dist-packages (from fastai) (1.3.4)\n",
            "Requirement already satisfied: Pillow in /usr/local/lib/python3.7/dist-packages (from fastai) (7.1.2)\n",
            "Requirement already satisfied: pyyaml in /usr/local/lib/python3.7/dist-packages (from fastai) (3.13)\n",
            "Requirement already satisfied: requests in /usr/local/lib/python3.7/dist-packages (from fastai) (2.23.0)\n",
            "Requirement already satisfied: beautifulsoup4 in /usr/local/lib/python3.7/dist-packages (from fastai) (4.6.3)\n",
            "Requirement already satisfied: torch>=1.0.0 in /usr/local/lib/python3.7/dist-packages (from fastai) (1.11.0+cu113)\n",
            "Requirement already satisfied: torchvision in /usr/local/lib/python3.7/dist-packages (from fastai) (0.12.0+cu113)\n",
            "Requirement already satisfied: packaging in /usr/local/lib/python3.7/dist-packages (from fastai) (21.3)\n",
            "Requirement already satisfied: spacy>=2.0.18 in /usr/local/lib/python3.7/dist-packages (from fastai) (2.2.4)\n",
            "Requirement already satisfied: pandas in /usr/local/lib/python3.7/dist-packages (from fastai) (1.3.5)\n",
            "Requirement already satisfied: numpy>=1.15 in /usr/local/lib/python3.7/dist-packages (from fastai) (1.21.6)\n",
            "Requirement already satisfied: numexpr in /usr/local/lib/python3.7/dist-packages (from fastai) (2.8.1)\n",
            "Requirement already satisfied: matplotlib in /usr/local/lib/python3.7/dist-packages (from fastai) (3.2.2)\n",
            "Requirement already satisfied: blis<0.5.0,>=0.4.0 in /usr/local/lib/python3.7/dist-packages (from spacy>=2.0.18->fastai) (0.4.1)\n",
            "Requirement already satisfied: murmurhash<1.1.0,>=0.28.0 in /usr/local/lib/python3.7/dist-packages (from spacy>=2.0.18->fastai) (1.0.7)\n",
            "Requirement already satisfied: thinc==7.4.0 in /usr/local/lib/python3.7/dist-packages (from spacy>=2.0.18->fastai) (7.4.0)\n",
            "Requirement already satisfied: plac<1.2.0,>=0.9.6 in /usr/local/lib/python3.7/dist-packages (from spacy>=2.0.18->fastai) (1.1.3)\n",
            "Requirement already satisfied: preshed<3.1.0,>=3.0.2 in /usr/local/lib/python3.7/dist-packages (from spacy>=2.0.18->fastai) (3.0.6)\n",
            "Requirement already satisfied: wasabi<1.1.0,>=0.4.0 in /usr/local/lib/python3.7/dist-packages (from spacy>=2.0.18->fastai) (0.9.1)\n",
            "Requirement already satisfied: catalogue<1.1.0,>=0.0.7 in /usr/local/lib/python3.7/dist-packages (from spacy>=2.0.18->fastai) (1.0.0)\n",
            "Requirement already satisfied: cymem<2.1.0,>=2.0.2 in /usr/local/lib/python3.7/dist-packages (from spacy>=2.0.18->fastai) (2.0.6)\n",
            "Requirement already satisfied: tqdm<5.0.0,>=4.38.0 in /usr/local/lib/python3.7/dist-packages (from spacy>=2.0.18->fastai) (4.64.0)\n",
            "Requirement already satisfied: setuptools in /usr/local/lib/python3.7/dist-packages (from spacy>=2.0.18->fastai) (57.4.0)\n",
            "Requirement already satisfied: srsly<1.1.0,>=1.0.2 in /usr/local/lib/python3.7/dist-packages (from spacy>=2.0.18->fastai) (1.0.5)\n",
            "Requirement already satisfied: importlib-metadata>=0.20 in /usr/local/lib/python3.7/dist-packages (from catalogue<1.1.0,>=0.0.7->spacy>=2.0.18->fastai) (4.11.3)\n",
            "Requirement already satisfied: zipp>=0.5 in /usr/local/lib/python3.7/dist-packages (from importlib-metadata>=0.20->catalogue<1.1.0,>=0.0.7->spacy>=2.0.18->fastai) (3.8.0)\n",
            "Requirement already satisfied: typing-extensions>=3.6.4 in /usr/local/lib/python3.7/dist-packages (from importlib-metadata>=0.20->catalogue<1.1.0,>=0.0.7->spacy>=2.0.18->fastai) (4.2.0)\n",
            "Requirement already satisfied: urllib3!=1.25.0,!=1.25.1,<1.26,>=1.21.1 in /usr/local/lib/python3.7/dist-packages (from requests->fastai) (1.24.3)\n",
            "Requirement already satisfied: certifi>=2017.4.17 in /usr/local/lib/python3.7/dist-packages (from requests->fastai) (2021.10.8)\n",
            "Requirement already satisfied: idna<3,>=2.5 in /usr/local/lib/python3.7/dist-packages (from requests->fastai) (2.10)\n",
            "Requirement already satisfied: chardet<4,>=3.0.2 in /usr/local/lib/python3.7/dist-packages (from requests->fastai) (3.0.4)\n",
            "Requirement already satisfied: cycler>=0.10 in /usr/local/lib/python3.7/dist-packages (from matplotlib->fastai) (0.11.0)\n",
            "Requirement already satisfied: kiwisolver>=1.0.1 in /usr/local/lib/python3.7/dist-packages (from matplotlib->fastai) (1.4.2)\n",
            "Requirement already satisfied: pyparsing!=2.0.4,!=2.1.2,!=2.1.6,>=2.0.1 in /usr/local/lib/python3.7/dist-packages (from matplotlib->fastai) (3.0.9)\n",
            "Requirement already satisfied: python-dateutil>=2.1 in /usr/local/lib/python3.7/dist-packages (from matplotlib->fastai) (2.8.2)\n",
            "Requirement already satisfied: six>=1.5 in /usr/local/lib/python3.7/dist-packages (from python-dateutil>=2.1->matplotlib->fastai) (1.15.0)\n",
            "Requirement already satisfied: pytz>=2017.3 in /usr/local/lib/python3.7/dist-packages (from pandas->fastai) (2022.1)\n"
          ]
        }
      ]
    },
    {
      "cell_type": "code",
      "source": [
        "import torch.distributed as dist\n",
        "import os\n",
        "\n",
        "def setup(rank, world_size):\n",
        "    os.environ['MASTER_ADDR'] = 'localhost'\n",
        "    os.environ['MASTER_PORT'] = '12355'\n",
        "    dist.init_process_group(\"nccl\", rank=rank, world_size=world_size)"
      ],
      "metadata": {
        "id": "MWpKh9WiYvio"
      },
      "execution_count": null,
      "outputs": []
    },
    {
      "cell_type": "markdown",
      "metadata": {
        "id": "z6n79-GaRoCN"
      },
      "source": [
        "# **Architecture**"
      ]
    },
    {
      "cell_type": "code",
      "execution_count": null,
      "metadata": {
        "id": "nwZt3u-zCKgX"
      },
      "outputs": [],
      "source": [
        "# Copyright (c) Facebook, Inc. and its affiliates.\n",
        "# All rights reserved.\n",
        "\n",
        "# This source code is licensed under the license found in the\n",
        "# LICENSE file in the root directory of this source tree.\n",
        "\n",
        "import torch\n",
        "from torch import nn\n",
        "\n",
        "from torchvision import models\n",
        "\n",
        "class Encoder(nn.Module):\n",
        "\n",
        "    def __init__(self, base_encoder, strip_fc=True):\n",
        "        super(Encoder, self).__init__()\n",
        "\n",
        "        # create the encoder\n",
        "        # num_classes is the output fc dimension\n",
        "        self.arch = base_encoder\n",
        "        built_encoder = models.__dict__[self.arch]\n",
        "        self.encoder = built_encoder(pretrained=False)\n",
        "            \n",
        "        if strip_fc:\n",
        "            if \"vgg\" in base_encoder:\n",
        "                self.encoder.classifier = nn.Sequential(*list(self.encoder.classifier.children())[:-3])\n",
        "            elif \"densenet\" in base_encoder:\n",
        "                self.encoder.classifier = nn.Sequential(*list(self.encoder.classifier.children())[:-1])\n",
        "            else:\n",
        "                self.encoder = nn.Sequential(*list(self.encoder.children())[:-1])\n",
        "        if base_encoder == \"resnet18\":\n",
        "            self.encoder = nn.Sequential(\n",
        "                nn.Conv2d(3, 64, kernel_size=(3, 3), stride=(1, 1), padding=(1, 1), bias=False),\n",
        "                *list(self.encoder.children())[1:3],\n",
        "                *list(self.encoder.children())[4:],\n",
        "            )\n",
        "\n",
        "    def forward(self, x):\n",
        "        r = self.encoder(x)\n",
        "        r_flat = torch.flatten(r, start_dim=1)\n",
        "        return r_flat"
      ]
    },
    {
      "cell_type": "code",
      "execution_count": null,
      "metadata": {
        "id": "nGKnX_biCYIb"
      },
      "outputs": [],
      "source": [
        "class Projector(nn.Module):\n",
        "\n",
        "    def __init__(self, proj_dims):\n",
        "        super(Projector, self).__init__()\n",
        "\n",
        "        in_dim = proj_dims[0]\n",
        "        h_dim = proj_dims[1]\n",
        "        out_dim = proj_dims[2]\n",
        "\n",
        "        self.projector = nn.Sequential(\n",
        "            nn.Linear(in_dim, h_dim, bias=False),\n",
        "            nn.BatchNorm1d(h_dim),\n",
        "            nn.ReLU(inplace=True),  # first layer\n",
        "            nn.Linear(h_dim, h_dim, bias=False),\n",
        "            nn.BatchNorm1d(h_dim),\n",
        "            nn.ReLU(inplace=True),  # second layer\n",
        "            nn.Linear(h_dim, out_dim, bias=False), # third layer\n",
        "            nn.BatchNorm1d(out_dim, affine=False),\n",
        "        )\n",
        "    \n",
        "    def forward(self, x):\n",
        "        z = self.projector(x)\n",
        "        return z"
      ]
    },
    {
      "cell_type": "code",
      "execution_count": null,
      "metadata": {
        "id": "e26WXr3qMeYW"
      },
      "outputs": [],
      "source": [
        "class Predictor(nn.Module):\n",
        "\n",
        "    def __init__(self, pred_dims):\n",
        "        super(Predictor, self).__init__()\n",
        "        emb_dim = pred_dims[0]\n",
        "        pred_dim = pred_dims[1]\n",
        "\n",
        "        self.predictor = nn.Sequential(\n",
        "            nn.Linear(emb_dim, pred_dim, bias=False),\n",
        "            nn.BatchNorm1d(pred_dim),\n",
        "            nn.ReLU(inplace=True),  # hidden layer\n",
        "            nn.Linear(pred_dim, emb_dim),\n",
        "        )  # output layer\n",
        "\n",
        "    def forward(self, x):\n",
        "        z = self.predictor(x)\n",
        "        return z"
      ]
    },
    {
      "cell_type": "code",
      "execution_count": null,
      "metadata": {
        "id": "6wubNxbBNTr0"
      },
      "outputs": [],
      "source": [
        "class SimSiamModel(nn.Module):\n",
        "\n",
        "    def __init__(self, base_encoder, proj_dims, pred_dims):\n",
        "        super(SimSiamModel, self).__init__()\n",
        "        self.encoder = Encoder(base_encoder)\n",
        "\n",
        "        prev_dim = get_output_shape(self.encoder)[1]\n",
        "        proj_dims = [prev_dim] + proj_dims\n",
        "        \n",
        "        self.projector = Projector(proj_dims)\n",
        "        self.predictor = Predictor(pred_dims)\n",
        "\n",
        "    def forward(self, x1, x2):\n",
        "        r1 = self.encoder(x1)\n",
        "        r2 = self.encoder(x2)\n",
        "\n",
        "        z1 = self.projector(r1)\n",
        "        z2 = self.projector(r2)\n",
        "\n",
        "        p1 = self.predictor(z1)\n",
        "        p2 = self.predictor(z2)\n",
        "\n",
        "        return p1, p2, z1.detach(), z2.detach()"
      ]
    },
    {
      "cell_type": "code",
      "execution_count": null,
      "metadata": {
        "id": "GKCEllDEAvmS"
      },
      "outputs": [],
      "source": [
        "# Source: https://github.com/sooonwoo/CL-Baselines (Modified)\n",
        "# Author: sooonwoo\n",
        "# License: BSD-2 Clause (Simplified)\n",
        "\n",
        "import torch.nn.functional as F \n",
        "\n",
        "class SimCLRModel(nn.Module):\n",
        "    def __init__(self, base_encoder, proj_dims):\n",
        "        super(SimCLRModel, self).__init__()\n",
        "        self.encoder = Encoder(base_encoder)\n",
        "        \n",
        "        prev_dim = get_output_shape(self.encoder)[1]\n",
        "\n",
        "        self.proj_head = nn.Sequential(\n",
        "            nn.Linear(prev_dim, proj_dims[0]),\n",
        "            nn.ReLU(inplace=True),\n",
        "            nn.Linear(proj_dims[0], proj_dims[1])\n",
        "        )\n",
        "\n",
        "    def forward(self, v1, v2):\n",
        "        r1 = self.encoder(v1)\n",
        "        r2 = self.encoder(v2)\n",
        "        \n",
        "        z1 = self.proj_head(torch.squeeze(r1))\n",
        "        z2 = self.proj_head(torch.squeeze(r2))\n",
        "        \n",
        "        return z1, z2\n"
      ]
    },
    {
      "cell_type": "code",
      "source": [
        "# Source: https://github.com/facebookresearch/moco/blob/main/moco/builder.py\n",
        "# Author: Facebook Research\n",
        "# License: Attribution-NonCommercial 4.0 International\n",
        "# Copyright (c) Facebook, Inc. and its affiliates. All Rights Reserved\n",
        "import torch\n",
        "import torch.nn as nn\n",
        "\n",
        "class MoCo(nn.Module):\n",
        "    def __init__(self, base_encoder, proj_dims, K=4096, m=0.99, T=0.1):\n",
        "        super(MoCo, self).__init__()\n",
        "\n",
        "        self.K = K\n",
        "        self.m = m\n",
        "        self.T = T\n",
        "\n",
        "        self.encoder_q = Encoder(base_encoder)\n",
        "        self.encoder_k = Encoder(base_encoder)\n",
        "\n",
        "\n",
        "        prev_dim = get_output_shape(self.encoder_q)[1]\n",
        "\n",
        "        self.proj_head_q = nn.Sequential(\n",
        "            nn.Linear(prev_dim, proj_dims[0]),\n",
        "            nn.ReLU(inplace=True),\n",
        "            nn.Linear(proj_dims[0], proj_dims[1])\n",
        "        )\n",
        "\n",
        "        self.proj_head_k = nn.Sequential(\n",
        "            nn.Linear(prev_dim, proj_dims[0]),\n",
        "            nn.ReLU(inplace=True),\n",
        "            nn.Linear(proj_dims[0], proj_dims[1])\n",
        "        )\n",
        "\n",
        "\n",
        "        for param_q, param_k in zip(self.encoder_q.parameters(), self.encoder_k.parameters()):\n",
        "            param_k.data.copy_(param_q.data)  # initialize\n",
        "            param_k.requires_grad = False  # not update by gradient\n",
        "\n",
        "        for param_q, param_k in zip(self.proj_head_q.parameters(), self.proj_head_k.parameters()):\n",
        "            param_k.data.copy_(param_q.data)  # initialize\n",
        "            param_k.requires_grad = False  # not update by gradient\n",
        "\n",
        "        # create the queue\n",
        "        self.register_buffer(\"queue\", torch.randn(proj_dims[1], K))\n",
        "        self.queue = nn.functional.normalize(self.queue, dim=0)\n",
        "\n",
        "        self.register_buffer(\"queue_ptr\", torch.zeros(1, dtype=torch.long))    \n",
        "    \n",
        "    @torch.no_grad()\n",
        "    def _momentum_update_key_encoder(self):\n",
        "        \"\"\"\n",
        "        Momentum update of the key encoder\n",
        "        \"\"\"\n",
        "        for param_q, param_k in zip(self.encoder_q.parameters(), self.encoder_k.parameters()):\n",
        "            param_k.data = param_k.data * self.m + param_q.data * (1. - self.m)\n",
        "\n",
        "    @torch.no_grad()\n",
        "    def _dequeue_and_enqueue(self, keys):\n",
        "        # gather keys before updating queue\n",
        "        #keys = concat_all_gather(keys)\n",
        "        batch_size = keys.shape[0]\n",
        "\n",
        "        ptr = int(self.queue_ptr)\n",
        "        assert self.K % batch_size == 0  # for simplicity\n",
        "\n",
        "        # replace the keys at ptr (dequeue and enqueue)\n",
        "        self.queue[:, ptr:ptr + batch_size] = keys.T\n",
        "        ptr = (ptr + batch_size) % self.K  # move pointer\n",
        "\n",
        "        self.queue_ptr[0] = ptr\n",
        "\n",
        "    @torch.no_grad()\n",
        "    def _batch_shuffle_ddp(self, x):\n",
        "        \"\"\"\n",
        "        Batch shuffle, for making use of BatchNorm.\n",
        "        *** Only support DistributedDataParallel (DDP) model. ***\n",
        "        \"\"\"\n",
        "        # gather from all gpus\n",
        "        batch_size_this = x.shape[0]\n",
        "        x_gather = concat_all_gather(x)\n",
        "        batch_size_all = x_gather.shape[0]\n",
        "\n",
        "        num_gpus = batch_size_all // batch_size_this\n",
        "\n",
        "        # random shuffle index\n",
        "        idx_shuffle = torch.randperm(batch_size_all).cuda()\n",
        "\n",
        "        # broadcast to all gpus\n",
        "        torch.distributed.broadcast(idx_shuffle, src=0)\n",
        "\n",
        "        # index for restoring\n",
        "        idx_unshuffle = torch.argsort(idx_shuffle)\n",
        "\n",
        "        # shuffled index for this gpu\n",
        "        gpu_idx = torch.distributed.get_rank()\n",
        "        idx_this = idx_shuffle.view(num_gpus, -1)[gpu_idx]\n",
        "\n",
        "        return x_gather[idx_this], idx_unshuffle\n",
        "\n",
        "    @torch.no_grad()\n",
        "    def _batch_unshuffle_ddp(self, x, idx_unshuffle):\n",
        "        \"\"\"\n",
        "        Undo batch shuffle.\n",
        "        *** Only support DistributedDataParallel (DDP) model. ***\n",
        "        \"\"\"\n",
        "        # gather from all gpus\n",
        "        batch_size_this = x.shape[0]\n",
        "        x_gather = concat_all_gather(x)\n",
        "        batch_size_all = x_gather.shape[0]\n",
        "\n",
        "        num_gpus = batch_size_all // batch_size_this\n",
        "\n",
        "        # restored index for this gpu\n",
        "        gpu_idx = torch.distributed.get_rank()\n",
        "        idx_this = idx_unshuffle.view(num_gpus, -1)[gpu_idx]\n",
        "\n",
        "        return x_gather[idx_this]\n",
        "\n",
        "    def forward(self, im_q, im_k):\n",
        "        \"\"\"\n",
        "        Input:\n",
        "            im_q: a batch of query images\n",
        "            im_k: a batch of key images\n",
        "        Output:\n",
        "            logits, targets\n",
        "        \"\"\"\n",
        "\n",
        "        # compute query features\n",
        "        q = self.encoder_q(im_q)  # queries: NxC\n",
        "        q = self.proj_head_q(q)\n",
        "        q = nn.functional.normalize(q, dim=1)\n",
        "\n",
        "        # compute key features\n",
        "        with torch.no_grad():  # no gradient to keys\n",
        "            self._momentum_update_key_encoder()  # update the key encoder\n",
        "\n",
        "            # shuffle for making use of BN\n",
        "            #im_k, idx_unshuffle = self._batch_shuffle_ddp(im_k)\n",
        "\n",
        "            k = self.encoder_k(im_k)  # keys: NxC\n",
        "            k = self.proj_head_k(k)\n",
        "            k = nn.functional.normalize(k, dim=1)\n",
        "\n",
        "            # undo shuffle\n",
        "            #k = self._batch_unshuffle_ddp(k, idx_unshuffle)\n",
        "\n",
        "        # compute logits\n",
        "        # Einstein sum is more intuitive\n",
        "        # positive logits: Nx1]\n",
        "        l_pos = torch.einsum('nc,nc->n', [q, k]).unsqueeze(-1)\n",
        "        # negative logits: NxK\n",
        "        l_neg = torch.einsum('nc,ck->nk', [q, self.queue.clone().detach()])\n",
        "\n",
        "        # logits: Nx(1+K)\n",
        "        logits = torch.cat([l_pos, l_neg], dim=1)\n",
        "\n",
        "        # apply temperature\n",
        "        logits /= self.T\n",
        "\n",
        "        # labels: positive key indicators\n",
        "        labels = torch.zeros(logits.shape[0], dtype=torch.long).cuda()\n",
        "\n",
        "        # dequeue and enqueue\n",
        "        self._dequeue_and_enqueue(k)\n",
        "\n",
        "        return logits, labels\n",
        "\n",
        "# utils\n",
        "@torch.no_grad()\n",
        "def concat_all_gather(tensor):\n",
        "    \"\"\"\n",
        "    Performs all_gather operation on the provided tensors.\n",
        "    *** Warning ***: torch.distributed.all_gather has no gradient.\n",
        "    \"\"\"\n",
        "    tensors_gather = [torch.ones_like(tensor)\n",
        "        for _ in range(torch.distributed.get_world_size())]\n",
        "    torch.distributed.all_gather(tensors_gather, tensor, async_op=False)\n",
        "\n",
        "    output = torch.cat(tensors_gather, dim=0)\n",
        "    return output\n",
        "\n",
        "    "
      ],
      "metadata": {
        "id": "mhNunG3GTSnU"
      },
      "execution_count": null,
      "outputs": []
    },
    {
      "cell_type": "code",
      "execution_count": null,
      "metadata": {
        "id": "fXgemybC-ePf"
      },
      "outputs": [],
      "source": [
        "# Source: https://github.com/sadimanna/simclr_pytorch\n",
        "# Author: sadimanna\n",
        "# License: GPL-3.0\n",
        "\n",
        "class SimCLR_Loss(nn.Module):\n",
        "    def __init__(self, batch_size, temperature):\n",
        "        super(SimCLR_Loss, self).__init__()\n",
        "        self.batch_size = batch_size\n",
        "        self.temperature = temperature\n",
        "\n",
        "        self.mask = self.mask_correlated_samples(batch_size)\n",
        "        self.criterion = nn.CrossEntropyLoss(reduction=\"sum\")\n",
        "        self.similarity_f = nn.CosineSimilarity(dim=2)\n",
        "\n",
        "    def mask_correlated_samples(self, batch_size):\n",
        "        N = 2 * batch_size\n",
        "        mask = torch.ones((N, N), dtype=bool)\n",
        "        mask = mask.fill_diagonal_(0)\n",
        "        \n",
        "        for i in range(batch_size):\n",
        "            mask[i, batch_size + i] = 0\n",
        "            mask[batch_size + i, i] = 0\n",
        "        return mask\n",
        "\n",
        "    def forward(self, z_i, z_j):\n",
        "        N = 2 * self.batch_size\n",
        "\n",
        "        z = torch.cat((z_i, z_j), dim=0)\n",
        "\n",
        "        sim = self.similarity_f(z.unsqueeze(1), z.unsqueeze(0)) / self.temperature\n",
        "\n",
        "        sim_i_j = torch.diag(sim, self.batch_size)\n",
        "        sim_j_i = torch.diag(sim, -self.batch_size)\n",
        "        \n",
        "        # We have 2N samples, but with Distributed training every GPU gets N examples too, resulting in: 2xNxN\n",
        "        positive_samples = torch.cat((sim_i_j, sim_j_i), dim=0).reshape(N, 1)\n",
        "        negative_samples = sim[self.mask].reshape(N, -1)\n",
        "        \n",
        "        #SIMCLR\n",
        "        labels = torch.from_numpy(np.array([0]*N)).reshape(-1).to(positive_samples.device).long() #.float()\n",
        "        \n",
        "        logits = torch.cat((positive_samples, negative_samples), dim=1)\n",
        "        loss = self.criterion(logits, labels)\n",
        "        loss /= N\n",
        "        \n",
        "        return loss"
      ]
    },
    {
      "cell_type": "markdown",
      "metadata": {
        "id": "t_FlItmiRvwL"
      },
      "source": [
        "# **Save/Load Functionality**"
      ]
    },
    {
      "cell_type": "code",
      "execution_count": null,
      "metadata": {
        "id": "LoWOW9ZnTRBI"
      },
      "outputs": [],
      "source": [
        "def save_checkpoint(\n",
        "    filepath, \n",
        "    curr_epoch, \n",
        "    model,\n",
        "    losses, \n",
        "    acc, \n",
        "    optimizer,\n",
        "    scheduler,\n",
        "    parallel=True,\n",
        "    ):\n",
        "    if parallel:\n",
        "        model_state = model.module.state_dict()\n",
        "    else:\n",
        "        model_state = model.state_dict(),\n",
        "    checkpoint = {\n",
        "        'curr_epoch': curr_epoch,\n",
        "        'losses': losses,\n",
        "        'acc': acc,\n",
        "        'state_dict': model_state,\n",
        "        'optimizer_dict': optimizer.state_dict(),\n",
        "        'scheduler_dict': scheduler.state_dict(),\n",
        "    }\n",
        "    torch.save(checkpoint, filepath)\n",
        "\n",
        "def load_checkpoint(filepath):\n",
        "    checkpoint = torch.load(filepath)\n",
        "\n",
        "    return checkpoint['state_dict'], checkpoint['optimizer_dict'], checkpoint['scheduler_dict'], checkpoint['curr_epoch'], checkpoint['losses'], checkpoint['acc']"
      ]
    },
    {
      "cell_type": "markdown",
      "metadata": {
        "id": "4BTfuSzmVPJi"
      },
      "source": [
        "# **Auxiliary Functions**"
      ]
    },
    {
      "cell_type": "code",
      "execution_count": null,
      "metadata": {
        "id": "We-72VpoVaHM"
      },
      "outputs": [],
      "source": [
        "# Copyright (c) Facebook, Inc. and its affiliates.\n",
        "# All rights reserved.\n",
        "\n",
        "# This source code is licensed under the license found in the\n",
        "# LICENSE file in the root directory of this source tree.\n",
        "\n",
        "import random\n",
        "from PIL import ImageFilter\n",
        "\n",
        "\n",
        "class TwoCropsTransform:\n",
        "    \"\"\"Take two random crops of one image as the query and key.\"\"\"\n",
        "\n",
        "    def __init__(self, base_transform):\n",
        "        self.base_transform = base_transform\n",
        "\n",
        "    def __call__(self, x):\n",
        "        q = self.base_transform(x)\n",
        "        k = self.base_transform(x)\n",
        "        return [q, k]"
      ]
    },
    {
      "cell_type": "code",
      "execution_count": null,
      "metadata": {
        "id": "xD0T7p-9VgHo"
      },
      "outputs": [],
      "source": [
        "import numpy as np\n",
        "import pandas as pd\n",
        "\n",
        "def set_requires_grad(model, val):\n",
        "    for param in model.parameters():\n",
        "        param.requires_grad = val\n",
        "\n",
        "def get_output_shape(model, image_dim=(1,3,224,224)):\n",
        "    return model(torch.rand(*(image_dim))).data.shape\n",
        "\n",
        "def get_encodings(model, data_loader, max_samples=1e9):\n",
        "    rep_df = pd.DataFrame()\n",
        "    model.eval()\n",
        "\n",
        "    with torch.no_grad():\n",
        "        for i, (images, labels) in enumerate(data_loader):\n",
        "            images = images.to(device)\n",
        "            r = np.array(model(images).detach().cpu())\n",
        "            labs = np.array(labels.detach().cpu())\n",
        "            batch_df = pd.DataFrame([[rep, lab] for rep, lab in zip(r, labs)], columns=[\"rep\", \"lab\"])\n",
        "            rep_df = rep_df.append(batch_df, ignore_index=True)\n",
        "            if (i+1)*data_loader.batch_size >= max_samples:\n",
        "                break\n",
        "    return rep_df"
      ]
    },
    {
      "cell_type": "code",
      "execution_count": null,
      "metadata": {
        "id": "rULSQS_qeHgF"
      },
      "outputs": [],
      "source": [
        "def progress_plot(data, x_lab, y_lab):\n",
        "  plt.figure()\n",
        "  plt.xlabel(x_lab)\n",
        "  plt.ylabel(y_lab)\n",
        "  plt.plot(data)\n",
        "\n",
        "def scatter_plot(title, data, labels, size=10):\n",
        "    fig, ax = plt.subplots()\n",
        "    scatter = ax.scatter(\n",
        "        data[0], \n",
        "        data[1], \n",
        "        c=labels, \n",
        "        s=[size]*data.shape[1], \n",
        "        vmin=0, \n",
        "        vmax=np.amax(labels), \n",
        "        cmap=\"Spectral\"\n",
        "        )\n",
        "    #plt.title(title)\n",
        "    ratio = 1.0\n",
        "    xleft, xright = ax.get_xlim()\n",
        "    ybottom, ytop = ax.get_ylim()\n",
        "    ax.set_aspect(abs((xright-xleft)/(ybottom-ytop))*ratio)"
      ]
    },
    {
      "cell_type": "code",
      "execution_count": null,
      "metadata": {
        "id": "ll-N0DmlZTlz"
      },
      "outputs": [],
      "source": [
        "from sklearn import preprocessing\n",
        "from sklearn.neighbors import NearestNeighbors\n",
        "\n",
        "def nn_avg_dist(x):\n",
        "    nbrs = NearestNeighbors(n_neighbors=2, algorithm='ball_tree').fit(x)\n",
        "    dist, _ = nbrs.kneighbors(x)\n",
        "    dist_comp = dist.T[1]\n",
        "\n",
        "    return np.average(dist_comp), np.std(dist_comp)"
      ]
    },
    {
      "cell_type": "markdown",
      "metadata": {
        "id": "LxkKZKUDjhOc"
      },
      "source": [
        "# **Augmentation Policies**"
      ]
    },
    {
      "cell_type": "code",
      "execution_count": null,
      "metadata": {
        "id": "3ESyksggj1hq"
      },
      "outputs": [],
      "source": [
        "# Source: https://github.com/DeepVoltaire/AutoAugment\n",
        "# Author: DeepVoltaire\n",
        "# License: MIT \n",
        "\n",
        "from PIL import Image, ImageEnhance, ImageOps\n",
        "import random\n",
        "\n",
        "\n",
        "class ShearX(object):\n",
        "    def __init__(self, fillcolor=(128, 128, 128)):\n",
        "        self.fillcolor = fillcolor\n",
        "\n",
        "    def __call__(self, x, magnitude):\n",
        "        return x.transform(\n",
        "            x.size, Image.AFFINE, (1, magnitude * random.choice([-1, 1]), 0, 0, 1, 0),\n",
        "            Image.BICUBIC, fillcolor=self.fillcolor)\n",
        "\n",
        "\n",
        "class ShearY(object):\n",
        "    def __init__(self, fillcolor=(128, 128, 128)):\n",
        "        self.fillcolor = fillcolor\n",
        "\n",
        "    def __call__(self, x, magnitude):\n",
        "        return x.transform(\n",
        "            x.size, Image.AFFINE, (1, 0, 0, magnitude * random.choice([-1, 1]), 1, 0),\n",
        "            Image.BICUBIC, fillcolor=self.fillcolor)\n",
        "\n",
        "\n",
        "class TranslateX(object):\n",
        "    def __init__(self, fillcolor=(128, 128, 128)):\n",
        "        self.fillcolor = fillcolor\n",
        "\n",
        "    def __call__(self, x, magnitude):\n",
        "        return x.transform(\n",
        "            x.size, Image.AFFINE, (1, 0, magnitude * x.size[0] * random.choice([-1, 1]), 0, 1, 0),\n",
        "            fillcolor=self.fillcolor)\n",
        "\n",
        "\n",
        "class TranslateY(object):\n",
        "    def __init__(self, fillcolor=(128, 128, 128)):\n",
        "        self.fillcolor = fillcolor\n",
        "\n",
        "    def __call__(self, x, magnitude):\n",
        "        return x.transform(\n",
        "            x.size, Image.AFFINE, (1, 0, 0, 0, 1, magnitude * x.size[1] * random.choice([-1, 1])),\n",
        "            fillcolor=self.fillcolor)\n",
        "\n",
        "\n",
        "class Rotate(object):\n",
        "    # from https://stackoverflow.com/questions/\n",
        "    # 5252170/specify-image-filling-color-when-rotating-in-python-with-pil-and-setting-expand\n",
        "    def __call__(self, x, magnitude):\n",
        "        rot = x.convert(\"RGBA\").rotate(magnitude * random.choice([-1, 1]))\n",
        "        return Image.composite(rot, Image.new(\"RGBA\", rot.size, (128,) * 4), rot).convert(x.mode)\n",
        "\n",
        "\n",
        "class Color(object):\n",
        "    def __call__(self, x, magnitude):\n",
        "        return ImageEnhance.Color(x).enhance(1 + magnitude * random.choice([-1, 1]))\n",
        "\n",
        "\n",
        "class Posterize(object):\n",
        "    def __call__(self, x, magnitude):\n",
        "        return ImageOps.posterize(x, magnitude)\n",
        "\n",
        "\n",
        "class Solarize(object):\n",
        "    def __call__(self, x, magnitude):\n",
        "        return ImageOps.solarize(x, magnitude)\n",
        "\n",
        "\n",
        "class Contrast(object):\n",
        "    def __call__(self, x, magnitude):\n",
        "        return ImageEnhance.Contrast(x).enhance(1 + magnitude * random.choice([-1, 1]))\n",
        "\n",
        "\n",
        "class Sharpness(object):\n",
        "    def __call__(self, x, magnitude):\n",
        "        return ImageEnhance.Sharpness(x).enhance(1 + magnitude * random.choice([-1, 1]))\n",
        "\n",
        "\n",
        "class Brightness(object):\n",
        "    def __call__(self, x, magnitude):\n",
        "        return ImageEnhance.Brightness(x).enhance(1 + magnitude * random.choice([-1, 1]))\n",
        "\n",
        "\n",
        "class AutoContrast(object):\n",
        "    def __call__(self, x, magnitude):\n",
        "        return ImageOps.autocontrast(x)\n",
        "\n",
        "\n",
        "class Equalize(object):\n",
        "    def __call__(self, x, magnitude):\n",
        "        return ImageOps.equalize(x)\n",
        "\n",
        "\n",
        "class Invert(object):\n",
        "    def __call__(self, x, magnitude):\n",
        "        return ImageOps.invert(x)"
      ]
    },
    {
      "cell_type": "code",
      "execution_count": null,
      "metadata": {
        "id": "rPt3culDjkBB"
      },
      "outputs": [],
      "source": [
        "# Source: https://github.com/DeepVoltaire/AutoAugment\n",
        "# Author: DeepVoltaire\n",
        "# License: MIT \n",
        "\n",
        "class CIFAR10Policy(object):\n",
        "    \"\"\" Randomly choose one of the best 25 Sub-policies on CIFAR10.\n",
        "        Example:\n",
        "        >>> policy = CIFAR10Policy()\n",
        "        >>> transformed = policy(image)\n",
        "        Example as a PyTorch Transform:\n",
        "        >>> transform=transforms.Compose([\n",
        "        >>>     transforms.Resize(256),\n",
        "        >>>     CIFAR10Policy(),\n",
        "        >>>     transforms.ToTensor()])\n",
        "    \"\"\"\n",
        "    def __init__(self, fillcolor=(128, 128, 128)):\n",
        "        self.policies = [\n",
        "            SubPolicy(0.1, \"invert\", 7, 0.2, \"contrast\", 6, fillcolor),\n",
        "            SubPolicy(0.7, \"rotate\", 2, 0.3, \"translateX\", 9, fillcolor),\n",
        "            SubPolicy(0.8, \"sharpness\", 1, 0.9, \"sharpness\", 3, fillcolor),\n",
        "            SubPolicy(0.5, \"shearY\", 8, 0.7, \"translateY\", 9, fillcolor),\n",
        "            SubPolicy(0.5, \"autocontrast\", 8, 0.9, \"equalize\", 2, fillcolor),\n",
        "\n",
        "            SubPolicy(0.2, \"shearY\", 7, 0.3, \"posterize\", 7, fillcolor),\n",
        "            SubPolicy(0.4, \"color\", 3, 0.6, \"brightness\", 7, fillcolor),\n",
        "            SubPolicy(0.3, \"sharpness\", 9, 0.7, \"brightness\", 9, fillcolor),\n",
        "            SubPolicy(0.6, \"equalize\", 5, 0.5, \"equalize\", 1, fillcolor),\n",
        "            SubPolicy(0.6, \"contrast\", 7, 0.6, \"sharpness\", 5, fillcolor),\n",
        "\n",
        "            SubPolicy(0.7, \"color\", 7, 0.5, \"translateX\", 8, fillcolor),\n",
        "            SubPolicy(0.3, \"equalize\", 7, 0.4, \"autocontrast\", 8, fillcolor),\n",
        "            SubPolicy(0.4, \"translateY\", 3, 0.2, \"sharpness\", 6, fillcolor),\n",
        "            SubPolicy(0.9, \"brightness\", 6, 0.2, \"color\", 8, fillcolor),\n",
        "            SubPolicy(0.5, \"solarize\", 2, 0.0, \"invert\", 3, fillcolor),\n",
        "\n",
        "            SubPolicy(0.2, \"equalize\", 0, 0.6, \"autocontrast\", 0, fillcolor),\n",
        "            SubPolicy(0.2, \"equalize\", 8, 0.6, \"equalize\", 4, fillcolor),\n",
        "            SubPolicy(0.9, \"color\", 9, 0.6, \"equalize\", 6, fillcolor),\n",
        "            SubPolicy(0.8, \"autocontrast\", 4, 0.2, \"solarize\", 8, fillcolor),\n",
        "            SubPolicy(0.1, \"brightness\", 3, 0.7, \"color\", 0, fillcolor),\n",
        "\n",
        "            SubPolicy(0.4, \"solarize\", 5, 0.9, \"autocontrast\", 3, fillcolor),\n",
        "            SubPolicy(0.9, \"translateY\", 9, 0.7, \"translateY\", 9, fillcolor),\n",
        "            SubPolicy(0.9, \"autocontrast\", 2, 0.8, \"solarize\", 3, fillcolor),\n",
        "            SubPolicy(0.8, \"equalize\", 8, 0.1, \"invert\", 3, fillcolor),\n",
        "            SubPolicy(0.7, \"translateY\", 9, 0.9, \"autocontrast\", 1, fillcolor)\n",
        "        ]\n",
        "\n",
        "    def __call__(self, img):\n",
        "        policy_idx = random.randint(0, len(self.policies) - 1)\n",
        "        return self.policies[policy_idx](img)\n",
        "\n",
        "    def __repr__(self):\n",
        "        return \"AutoAugment CIFAR10 Policy\"\n",
        "\n",
        "class SubPolicy(object):\n",
        "    def __init__(self, p1, operation1, magnitude_idx1, p2, operation2, magnitude_idx2, fillcolor=(128, 128, 128)):\n",
        "        ranges = {\n",
        "            \"shearX\": np.linspace(0, 0.3, 10),\n",
        "            \"shearY\": np.linspace(0, 0.3, 10),\n",
        "            \"translateX\": np.linspace(0, 150 / 331, 10),\n",
        "            \"translateY\": np.linspace(0, 150 / 331, 10),\n",
        "            \"rotate\": np.linspace(0, 30, 10),\n",
        "            \"color\": np.linspace(0.0, 0.9, 10),\n",
        "            \"posterize\": np.round(np.linspace(8, 4, 10), 0).astype(np.int),\n",
        "            \"solarize\": np.linspace(256, 0, 10),\n",
        "            \"contrast\": np.linspace(0.0, 0.9, 10),\n",
        "            \"sharpness\": np.linspace(0.0, 0.9, 10),\n",
        "            \"brightness\": np.linspace(0.0, 0.9, 10),\n",
        "            \"autocontrast\": [0] * 10,\n",
        "            \"equalize\": [0] * 10,\n",
        "            \"invert\": [0] * 10\n",
        "        }\n",
        "\n",
        "        func = {\n",
        "            \"shearX\": ShearX(fillcolor=fillcolor),\n",
        "            \"shearY\": ShearY(fillcolor=fillcolor),\n",
        "            \"translateX\": TranslateX(fillcolor=fillcolor),\n",
        "            \"translateY\": TranslateY(fillcolor=fillcolor),\n",
        "            \"rotate\": Rotate(),\n",
        "            \"color\": Color(),\n",
        "            \"posterize\": Posterize(),\n",
        "            \"solarize\": Solarize(),\n",
        "            \"contrast\": Contrast(),\n",
        "            \"sharpness\": Sharpness(),\n",
        "            \"brightness\": Brightness(),\n",
        "            \"autocontrast\": AutoContrast(),\n",
        "            \"equalize\": Equalize(),\n",
        "            \"invert\": Invert()\n",
        "        }\n",
        "\n",
        "        self.p1 = p1\n",
        "        self.operation1 = func[operation1]\n",
        "        self.magnitude1 = ranges[operation1][magnitude_idx1]\n",
        "        self.p2 = p2\n",
        "        self.operation2 = func[operation2]\n",
        "        self.magnitude2 = ranges[operation2][magnitude_idx2]\n",
        "\n",
        "    def __call__(self, img):\n",
        "        if random.random() < self.p1:\n",
        "            img = self.operation1(img, self.magnitude1)\n",
        "        if random.random() < self.p2:\n",
        "            img = self.operation2(img, self.magnitude2)\n",
        "        return img"
      ]
    },
    {
      "cell_type": "markdown",
      "metadata": {
        "id": "nDU11ZiPTS3u"
      },
      "source": [
        "# **Model Input Size Dictionary**"
      ]
    },
    {
      "cell_type": "code",
      "execution_count": null,
      "metadata": {
        "id": "lW-jnCRVGXHc"
      },
      "outputs": [],
      "source": [
        "model_img_size = {\n",
        "    \"resnet18\": 32,\n",
        "    \"resnet34\": 224,\n",
        "    \"resnet50\": 224,\n",
        "    \"resnet101\": 224,\n",
        "    \"resnet152\": 224,\n",
        "    \"efficientnet_b0\": 224,\n",
        "    \"efficientnet_b1\": 240,\n",
        "    \"efficientnet_b2\": 260,\n",
        "    \"efficientnet_b3\": 300,\n",
        "    \"efficientnet_b4\": 380,\n",
        "    \"efficientnet_b5\": 456,\n",
        "    \"efficientnet_b6\": 528,\n",
        "    \"efficientnet_b7\": 600,\n",
        "    \"vgg11\": 224,\n",
        "    \"vgg11_bn\": 224,\n",
        "    \"vgg13\": 224,\n",
        "    \"vgg13_bn\": 224,\n",
        "    \"vgg16\": 224,\n",
        "    \"vgg16_bn\": 224,\n",
        "    \"vgg19\": 224,\n",
        "    \"vgg19_bn\": 224,\n",
        "    \"densenet121\": 224,\n",
        "    \"densenet169\": 224,\n",
        "    \"densenet201\": 224,\n",
        "    \"densenet161\": 224,\n",
        "}"
      ]
    },
    {
      "cell_type": "markdown",
      "metadata": {
        "id": "W3JjKWw0TY49"
      },
      "source": [
        "# **Experiment Parameters**"
      ]
    },
    {
      "cell_type": "code",
      "execution_count": null,
      "metadata": {
        "id": "C7KiGl3iGpQE"
      },
      "outputs": [],
      "source": [
        "import torchvision.datasets as datasets\n",
        "import torchvision.transforms as transforms\n",
        "\n",
        "# Experiment parameters\n",
        "name = \"resnet18\"\n",
        "parallel = True\n",
        "origin_path_root = \"/content/gdrive/MyDrive/SimSiamCheckpoints/checkpoint_moco\"\n",
        "proj_dims = [2048, 128]\n",
        "\n",
        "show_samples = False\n",
        "\n",
        "# Representation study parameters\n",
        "check_clustering = True\n",
        "check_entropy = True\n",
        "linear_probe = False\n",
        "\n",
        "rep_epoch = 60"
      ]
    },
    {
      "cell_type": "code",
      "execution_count": null,
      "metadata": {
        "id": "J6cqT9z1Xy4X"
      },
      "outputs": [],
      "source": [
        "def gen_dataloaders(dataset_choice, batch_size, default_format):\n",
        "    sim_clr_augs = [\n",
        "        transforms.RandomHorizontalFlip(),\n",
        "        transforms.RandomResizedCrop(size=32, scale=(0.2, 1.)),\n",
        "        transforms.RandomApply([\n",
        "            transforms.ColorJitter(\n",
        "                brightness=0.4,\n",
        "                contrast=0.4,\n",
        "                saturation=0.4,\n",
        "                hue=0.1)\n",
        "        ], p=0.8),\n",
        "        transforms.RandomGrayscale(p=0.2),\n",
        "    ]\n",
        "    \n",
        "    if dataset_choice == 'cifar10': \n",
        "        default_format.insert(2, transforms.Normalize((0.4914, 0.4822, 0.4465), (0.2023, 0.1994, 0.2010)))\n",
        "        test_dataset = datasets.CIFAR10(\n",
        "            \"data\", \n",
        "            train=False,\n",
        "            transform = transforms.Compose(default_format), \n",
        "            download=True\n",
        "        )\n",
        "        \n",
        "        ssl_format = default_format.copy()\n",
        "        ssl_format = sim_clr_augs + ssl_format\n",
        "        ssl_format.pop(-3)\n",
        "        \n",
        "        default_format.insert(0, CIFAR10Policy())\n",
        "        \n",
        "        train_dataset = datasets.CIFAR10(\n",
        "            \"data\", \n",
        "            train=True,\n",
        "            transform = TwoCropsTransform(transforms.Compose(ssl_format)), \n",
        "            download=True\n",
        "        )\n",
        "        lp_dataset = datasets.CIFAR10(\n",
        "            \"data\", \n",
        "            train=True,\n",
        "            transform = transforms.Compose(default_format), \n",
        "            download=True\n",
        "        )\n",
        "\n",
        "    elif dataset_choice == 'cifar100':\n",
        "        default_format.insert(2, transforms.Normalize((0.5071, 0.4867, 0.4408), (0.2675, 0.2565, 0.2761)))\n",
        "        test_dataset = datasets.CIFAR100(\n",
        "            \"data\", \n",
        "            train=False,\n",
        "            transform = transforms.Compose(default_format), \n",
        "            download=True\n",
        "        )\n",
        "\n",
        "        ssl_format = default_format.copy()\n",
        "        ssl_format = sim_clr_augs + ssl_format\n",
        "        ssl_format.pop(-3)\n",
        "        \n",
        "        default_format.insert(0, CIFAR10Policy())\n",
        "        \n",
        "        train_dataset = datasets.CIFAR100(\n",
        "            \"data\", \n",
        "            train=True,\n",
        "            transform = TwoCropsTransform(transforms.Compose(ssl_format)), \n",
        "            download=True\n",
        "        )\n",
        "        lp_dataset = datasets.CIFAR100(\n",
        "            \"data\", \n",
        "            train=True,\n",
        "            transform = transforms.Compose(default_format), \n",
        "            download=True\n",
        "        )\n",
        "\n",
        "    elif dataset_choice == 'mnist':\n",
        "        # Incomplete\n",
        "        default_format.insert(0, transforms.Lambda(lambda x: x.convert(\"RGB\")))\n",
        "        default_format.insert(3, transforms.Normalize((0.1307, 0.1307, 0.1307), (0.3081, 0.3081, 0.3081)))\n",
        "\n",
        "        train_dataset = datasets.MNIST(\n",
        "            \"data\", \n",
        "            train=True,\n",
        "            transform = transforms.Compose(default_format), \n",
        "            download=True\n",
        "        )\n",
        "        test_dataset = datasets.MNIST(\n",
        "            \"data\", \n",
        "            train=False,\n",
        "            transform = transforms.Compose(default_format), \n",
        "            download=True\n",
        "        )\n",
        "\n",
        "    elif dataset_choice == 'imagenet':\n",
        "        # Incomplete\n",
        "        default_format.insert(2, transforms.Normalize((0.485, 0.456, 0.406), (0.229, 0.224, 0.225)))\n",
        "\n",
        "        train_dataset = datasets.ImageNet(\n",
        "            \"data\", \n",
        "            train=True,\n",
        "            transform = transforms.Compose(default_format), \n",
        "            download=True\n",
        "        )\n",
        "        test_dataset = datasets.ImageNet(\n",
        "            \"data\", \n",
        "            train=False,\n",
        "            transform = transforms.Compose(default_format), \n",
        "            download=True\n",
        "        )\n",
        "\n",
        "    train_loader = torch.utils.data.DataLoader(\n",
        "        train_dataset, batch_size=batch_size, shuffle=True, drop_last=True\n",
        "    )\n",
        "\n",
        "    lp_loader = torch.utils.data.DataLoader(\n",
        "        lp_dataset, batch_size=batch_size, shuffle=True, drop_last=True\n",
        "    )\n",
        "\n",
        "    test_loader = torch.utils.data.DataLoader(\n",
        "        test_dataset, batch_size=batch_size, shuffle=True\n",
        "    )\n",
        "\n",
        "    return train_loader, lp_loader, test_loader"
      ]
    },
    {
      "cell_type": "markdown",
      "metadata": {
        "id": "a0EawdHITcUp"
      },
      "source": [
        "# **Dataset Parameters**"
      ]
    },
    {
      "cell_type": "code",
      "execution_count": null,
      "metadata": {
        "colab": {
          "base_uri": "https://localhost:8080/"
        },
        "id": "FLWGi1SCGSkz",
        "outputId": "c76fdfd8-4cb5-483a-f461-04e1d57d50d1"
      },
      "outputs": [
        {
          "output_type": "stream",
          "name": "stdout",
          "text": [
            "Files already downloaded and verified\n"
          ]
        },
        {
          "output_type": "stream",
          "name": "stderr",
          "text": [
            "/usr/local/lib/python3.7/dist-packages/ipykernel_launcher.py:65: DeprecationWarning: `np.int` is a deprecated alias for the builtin `int`. To silence this warning, use `int` by itself. Doing this will not modify any behavior and is safe. When replacing `np.int`, you may wish to use e.g. `np.int64` or `np.int32` to specify the precision. If you wish to review your current use, check the release note link for additional information.\n",
            "Deprecated in NumPy 1.20; for more details and guidance: https://numpy.org/devdocs/release/1.20.0-notes.html#deprecations\n"
          ]
        },
        {
          "output_type": "stream",
          "name": "stdout",
          "text": [
            "Files already downloaded and verified\n",
            "Files already downloaded and verified\n"
          ]
        }
      ],
      "source": [
        "# Data parameters\n",
        "dataset_choice = 'cifar100'\n",
        "batch_size = 512\n",
        "crop_size = model_img_size[name]\n",
        "\n",
        "default_format = [ \n",
        "    transforms.Resize(crop_size),\n",
        "    transforms.ToTensor(),               \n",
        "]\n",
        "\n",
        "train_loader, lp_loader, test_loader = gen_dataloaders(dataset_choice=dataset_choice, batch_size=batch_size, default_format=default_format)"
      ]
    },
    {
      "cell_type": "code",
      "execution_count": null,
      "metadata": {
        "id": "hw6Uab_DgM8E"
      },
      "outputs": [],
      "source": [
        "import matplotlib.pyplot as plt\n",
        "# Do not normalize to view CIFAR images\n",
        "\n",
        "if show_samples:\n",
        "    x = next(iter(train_loader))\n",
        "    y = next(iter(lp_loader))\n",
        "    z = next(iter(test_loader))\n",
        "\n",
        "    plt.figure()\n",
        "    for index, img in enumerate(x[0][0][:16]):\n",
        "        plt.subplot(4,4,index+1)\n",
        "        plt.imshow(transforms.ToPILImage()(img))\n",
        "\n",
        "    plt.figure()\n",
        "    for index, img in enumerate(x[0][1][:16]):\n",
        "        plt.subplot(4,4,index+1)\n",
        "        plt.imshow(transforms.ToPILImage()(img))\n",
        "\n",
        "    plt.figure()\n",
        "    for index, img in enumerate(y[0][:16]):\n",
        "        plt.subplot(4,4,index+1)\n",
        "        plt.imshow(transforms.ToPILImage()(img))\n",
        "\n",
        "    plt.figure()\n",
        "    for index, img in enumerate(z[0][:16]):\n",
        "        plt.subplot(4,4,index+1)\n",
        "        plt.imshow(transforms.ToPILImage()(img))"
      ]
    },
    {
      "cell_type": "markdown",
      "metadata": {
        "id": "LL3gTj9EN9zB"
      },
      "source": [
        "# **Training Parameters**"
      ]
    },
    {
      "cell_type": "code",
      "execution_count": null,
      "metadata": {
        "id": "GPqaRLtROAMb"
      },
      "outputs": [],
      "source": [
        "# Training parameters\n",
        "path_root = origin_path_root + \"_{}\".format(dataset_choice)\n",
        "load_path = path_root + \"_{}.pth\".format(name)\n",
        "load_model = True\n",
        "start_epoch = 0\n",
        "end_epoch = 1\n",
        "max_epochs = 1\n",
        "milestones = 20\n",
        "lr = 0.06\n",
        "momentum = 0.9\n",
        "weight_decay = 5e-4\n",
        "temp = 0.5\n",
        "scheduler_steps = max_epochs*int(len(train_loader))\n",
        "\n",
        "losses = []\n",
        "accs = []"
      ]
    },
    {
      "cell_type": "markdown",
      "metadata": {
        "id": "eVGqsmS7mYE_"
      },
      "source": [
        "# **Training Functions**"
      ]
    },
    {
      "cell_type": "code",
      "execution_count": null,
      "metadata": {
        "id": "Vnsw2gV4mW9i"
      },
      "outputs": [],
      "source": [
        "def calc_acc(pred, lab):\n",
        "    return sum([1 for p, l in zip(pred, lab) if p==l])/len(lab)\n",
        "\n",
        "def sl_batch_calc(model, criterion, images, labs):\n",
        "    images = images.to(device)\n",
        "    labs = labs.to(device)\n",
        "    c = model(x=images)\n",
        "    loss = criterion(c, labs)\n",
        "\n",
        "    with torch.no_grad():\n",
        "        g_true = labs.cpu()\n",
        "        preds = torch.argmax(c.detach().cpu(), dim=-1)\n",
        "        acc = calc_acc(preds, g_true)\n",
        "\n",
        "    return loss, acc"
      ]
    },
    {
      "cell_type": "code",
      "execution_count": null,
      "metadata": {
        "id": "OBwFvUrvUpxx"
      },
      "outputs": [],
      "source": [
        "def train_simclr_epoch(\n",
        "    model, \n",
        "    optimizer, \n",
        "    scheduler, \n",
        "    train_loader,\n",
        "    criterion\n",
        "    ):\n",
        "\n",
        "    epoch_loss = []\n",
        "\n",
        "    for i, (images, labs) in enumerate(train_loader):\n",
        "        images[0] = images[0].squeeze().to(device)\n",
        "        images[1] = images[1].squeeze().to(device)\n",
        "        z1, z2 = model(v1=images[0], v2=images[1])\n",
        "        loss = criterion(z1, z2)\n",
        "\n",
        "        # compute gradient and do SGD step\n",
        "        optimizer.zero_grad()\n",
        "        loss.backward()\n",
        "        optimizer.step()\n",
        "        scheduler.step()\n",
        "\n",
        "        epoch_loss.append(loss.item())\n",
        "\n",
        "    return np.average(epoch_loss)\n",
        "\n",
        "def train_simclr( \n",
        "    model,\n",
        "    optimizer,\n",
        "    scheduler,\n",
        "    train_loader, \n",
        "    start_epoch,\n",
        "    end_epoch,\n",
        "    total_epochs, \n",
        "    path_root,\n",
        "    losses,\n",
        "    milestones,\n",
        "    parallel,\n",
        "    temp=0.5\n",
        "    ):\n",
        "    \n",
        "    losses = []\n",
        "    \n",
        "    criterion = SimCLR_Loss(batch_size=512, temperature=temp).to(device)\n",
        "  \n",
        "    for epoch in range(start_epoch, end_epoch):\n",
        "        print(\"Training Epoch {}/{}...\".format(epoch+1, total_epochs))\n",
        "        loss = train_simclr_epoch(\n",
        "            model=model, \n",
        "            optimizer=optimizer, \n",
        "            scheduler=scheduler, \n",
        "            train_loader=train_loader,\n",
        "            criterion=criterion\n",
        "        )\n",
        "\n",
        "        losses.append(loss)\n",
        "        print(\"Loss: {}\".format(loss))\n",
        "\n",
        "        save_path = path_root+\"_{}.pth\".format(\"resnet18\")\n",
        "\n",
        "        save_checkpoint(\n",
        "                    filepath=save_path, \n",
        "                    curr_epoch=epoch+1, \n",
        "                    model=model,\n",
        "                    losses=losses, \n",
        "                    acc=accs, \n",
        "                    optimizer=optimizer,\n",
        "                    scheduler=scheduler,\n",
        "                    parallel=parallel\n",
        "        )\n",
        "\n",
        "        if milestones:\n",
        "            if (epoch+1) % milestones == 0:\n",
        "                checkpoint_path = path_root+\"_{}_e{}.pth\".format(\"resnet18\", epoch+1)\n",
        "\n",
        "                save_checkpoint(\n",
        "                    filepath=checkpoint_path, \n",
        "                    curr_epoch=epoch+1, \n",
        "                    model=model,\n",
        "                    losses=losses, \n",
        "                    acc=accs, \n",
        "                    optimizer=optimizer,\n",
        "                    scheduler=scheduler,\n",
        "                    parallel=parallel\n",
        "                )\n",
        "\n",
        "    return losses"
      ]
    },
    {
      "cell_type": "code",
      "source": [
        "def train_moco_epoch(\n",
        "    model, \n",
        "    optimizer, \n",
        "    scheduler, \n",
        "    train_loader,\n",
        "    criterion\n",
        "    ):\n",
        "\n",
        "    epoch_loss = []\n",
        "\n",
        "    for i, (images, labs) in enumerate(train_loader):\n",
        "        images[0] = images[0].squeeze().to(device)\n",
        "        images[1] = images[1].squeeze().to(device)\n",
        "        output, target = model(im_q=images[0], im_k=images[1])\n",
        "        loss = criterion(output, target)\n",
        "\n",
        "        # compute gradient and do SGD step\n",
        "        optimizer.zero_grad()\n",
        "        loss.backward()\n",
        "        optimizer.step()\n",
        "        scheduler.step()\n",
        "\n",
        "        epoch_loss.append(loss.item())\n",
        "\n",
        "    return np.average(epoch_loss)\n",
        "\n",
        "def train_moco( \n",
        "    model,\n",
        "    optimizer,\n",
        "    scheduler,\n",
        "    train_loader, \n",
        "    start_epoch,\n",
        "    end_epoch,\n",
        "    total_epochs, \n",
        "    path_root,\n",
        "    losses,\n",
        "    milestones,\n",
        "    parallel,\n",
        "    temp=0.5\n",
        "    ):\n",
        "    \n",
        "    losses = []\n",
        "    \n",
        "    criterion = nn.CrossEntropyLoss().to(device)\n",
        "  \n",
        "    for epoch in range(start_epoch, end_epoch):\n",
        "        print(\"Training Epoch {}/{}...\".format(epoch+1, total_epochs))\n",
        "        loss = train_moco_epoch(\n",
        "            model=model, \n",
        "            optimizer=optimizer, \n",
        "            scheduler=scheduler, \n",
        "            train_loader=train_loader,\n",
        "            criterion=criterion\n",
        "        )\n",
        "\n",
        "        losses.append(loss)\n",
        "        print(\"Loss: {}\".format(loss))\n",
        "\n",
        "        save_path = path_root+\"_{}.pth\".format(\"resnet18\")\n",
        "\n",
        "        save_checkpoint(\n",
        "                    filepath=save_path, \n",
        "                    curr_epoch=epoch+1, \n",
        "                    model=model,\n",
        "                    losses=losses, \n",
        "                    acc=accs, \n",
        "                    optimizer=optimizer,\n",
        "                    scheduler=scheduler,\n",
        "                    parallel=parallel\n",
        "        )\n",
        "\n",
        "        if milestones:\n",
        "            if (epoch+1) % milestones == 0:\n",
        "                checkpoint_path = path_root+\"_{}_e{}.pth\".format(\"resnet18\", epoch+1)\n",
        "\n",
        "                save_checkpoint(\n",
        "                    filepath=checkpoint_path, \n",
        "                    curr_epoch=epoch+1, \n",
        "                    model=model,\n",
        "                    losses=losses, \n",
        "                    acc=accs, \n",
        "                    optimizer=optimizer,\n",
        "                    scheduler=scheduler,\n",
        "                    parallel=parallel\n",
        "                )\n",
        "\n",
        "    return losses"
      ],
      "metadata": {
        "id": "mk9MYklmdBLs"
      },
      "execution_count": null,
      "outputs": []
    },
    {
      "cell_type": "markdown",
      "metadata": {
        "id": "OwcwZxZ5LUEJ"
      },
      "source": [
        "# **SSL Model/Training Initiation**"
      ]
    },
    {
      "cell_type": "code",
      "execution_count": null,
      "metadata": {
        "id": "mlHUEz6DLYRK"
      },
      "outputs": [],
      "source": [
        "model = MoCo(base_encoder=\"resnet18\", proj_dims=proj_dims)\n",
        "if parallel:\n",
        "    model = nn.DataParallel(model)\n",
        "model = model.to(device)\n",
        "optimizer = torch.optim.SGD(\n",
        "                model.parameters(), lr, momentum=momentum, weight_decay=weight_decay\n",
        "            )\n",
        "scheduler = torch.optim.lr_scheduler.OneCycleLR(optimizer=optimizer, max_lr=lr, total_steps=scheduler_steps, pct_start=0.3)\n",
        "\n",
        "if load_model: \n",
        "    model_dict, opt_dict, sch_dict, start_epoch, losses, acc = load_checkpoint(load_path)\n",
        "    if parallel:\n",
        "        model.module.load_state_dict(model_dict)\n",
        "    else:\n",
        "        model.load_state_dict(model_dict)\n",
        "    optimizer.load_state_dict(opt_dict)\n",
        "    scheduler.load_state_dict(sch_dict)"
      ]
    },
    {
      "cell_type": "code",
      "execution_count": null,
      "metadata": {
        "id": "UAK-ZDI_6uLU"
      },
      "outputs": [],
      "source": [
        "hist_losses = train_moco(\n",
        "    model=model, \n",
        "    optimizer=optimizer,\n",
        "    scheduler=scheduler,\n",
        "    train_loader=train_loader,\n",
        "    start_epoch=start_epoch,\n",
        "    end_epoch=end_epoch,\n",
        "    total_epochs=max_epochs,\n",
        "    path_root=path_root,\n",
        "    losses=losses,\n",
        "    milestones=milestones,\n",
        "    parallel=parallel\n",
        ")"
      ]
    },
    {
      "cell_type": "code",
      "execution_count": null,
      "metadata": {
        "id": "5wSPVI-Lal43",
        "colab": {
          "base_uri": "https://localhost:8080/",
          "height": 54
        },
        "outputId": "1ac87170-3d8f-4ff9-886a-8142bde27786"
      },
      "outputs": [
        {
          "output_type": "display_data",
          "data": {
            "text/plain": [
              "<Figure size 432x288 with 1 Axes>"
            ],
            "image/png": "[encoded data removed]"
          },
          "metadata": {
            "needs_background": "light"
          }
        }
      ],
      "source": [
        "progress_plot(data=hist_losses, x_lab=\"Epochs\", y_lab=\"SSL Loss\")"
      ]
    },
    {
      "cell_type": "markdown",
      "metadata": {
        "id": "-hk0igLoVcSY"
      },
      "source": [
        "# **Representation Examination**"
      ]
    },
    {
      "cell_type": "code",
      "execution_count": null,
      "metadata": {
        "id": "-AplWhH0deM8"
      },
      "outputs": [],
      "source": [
        "class_count_dict = {\n",
        "    \"mnist\": 10,\n",
        "    \"cifar10\": 10,\n",
        "    \"cifar100\": 100,\n",
        "    \"imagenet\": 1000,\n",
        "    \"imagenette\": 10,\n",
        "    \"imagewoof\": 10,\n",
        "    \"svhn\": 10,\n",
        "    \"stanford_cars\": 196\n",
        "}"
      ]
    },
    {
      "cell_type": "code",
      "execution_count": null,
      "metadata": {
        "id": "gbbwX52rVbaN"
      },
      "outputs": [],
      "source": [
        "if check_clustering:\n",
        "    # Representation Examination Parameters\n",
        "    rep_model = \"resnet18\"\n",
        "    rep_dataset = dataset_choice\n",
        "    rep_model_path = origin_path_root + \"_{}_{}_e{}.pth\".format(rep_dataset, rep_model, rep_epoch)\n",
        "\n",
        "    size = 10\n",
        "    num_classes = class_count_dict[rep_dataset]\n",
        "\n",
        "    n_trials = 1\n",
        "\n",
        "    seed_list = [67, 97, 1024]"
      ]
    },
    {
      "cell_type": "code",
      "execution_count": null,
      "metadata": {
        "id": "FVc2bMoVbgVM"
      },
      "outputs": [],
      "source": [
        "if check_clustering:\n",
        "    model = MoCo(base_encoder=\"resnet18\", proj_dims=proj_dims)\n",
        "    rep_model_dict, _, _, _, rep_losses, _ = load_checkpoint(rep_model_path)\n",
        "    model.load_state_dict(rep_model_dict)\n",
        "    model = model.encoder_q\n",
        "    if parallel:\n",
        "        model = nn.DataParallel(model)\n",
        "    model.to(device)\n",
        "    set_requires_grad(model, False)"
      ]
    },
    {
      "cell_type": "code",
      "execution_count": null,
      "metadata": {
        "id": "7N2T-yiMco_w",
        "colab": {
          "base_uri": "https://localhost:8080/"
        },
        "outputId": "50719aff-da3d-4fae-b5cb-7932ee9efa78"
      },
      "outputs": [
        {
          "output_type": "stream",
          "name": "stdout",
          "text": [
            "Tensor representation dimensions: torch.Size([10000, 512])\n",
            "Representation dimensions: 512\n"
          ]
        }
      ],
      "source": [
        "if check_clustering:\n",
        "    rep_df = get_encodings(model, test_loader)\n",
        "    temp_rep = np.asarray([value.astype(\"float64\") for value in rep_df[\"rep\"].values])\n",
        "    tensor_rep = torch.tensor(temp_rep)\n",
        "    print(\"Tensor representation dimensions:\", tensor_rep.size())\n",
        "\n",
        "    tensor_rep = torch.flatten(tensor_rep, start_dim=1)\n",
        "    print(\"Representation dimensions:\", tensor_rep.size()[-1])\n",
        "\n",
        "    label_array = rep_df['lab']"
      ]
    },
    {
      "cell_type": "code",
      "execution_count": null,
      "metadata": {
        "id": "mzGnagdsdWLc"
      },
      "outputs": [],
      "source": [
        "if check_clustering:\n",
        "    import umap\n",
        "    import pacmap\n",
        "\n",
        "    np_rep = np.asarray(tensor_rep)\n",
        "\n",
        "    embs = []\n",
        "    scatter_embs = []\n",
        "\n",
        "    for i in range(n_trials):\n",
        "        torch.manual_seed(seed_list[i])\n",
        "        np.random.seed(seed_list[i])\n",
        "        \n",
        "        embeddings = umap.UMAP(\n",
        "                              n_neighbors=50,\n",
        "                              n_components=3,\n",
        "                              min_dist=0.3,\n",
        "                              densmap=True,\n",
        "                              metric='cosine').fit_transform(tensor_rep)\n",
        "\n",
        "        scatter_embeddings = embeddings.T\n",
        "\n",
        "        embs.append(embeddings)\n",
        "        scatter_embs.append(scatter_embeddings)\n",
        "      \n",
        "    draw_embs = umap.UMAP(\n",
        "                        n_neighbors=50,\n",
        "                        n_components=2,\n",
        "                        min_dist=0.3,\n",
        "                        densmap=True,\n",
        "                        metric='cosine').fit_transform(tensor_rep)\n",
        "                        \n",
        "    draw_embs = draw_embs.T\n",
        "    \"\"\"\n",
        "\n",
        "        embeddings = pacmap.PaCMAP(\n",
        "                              n_neighbors=50,\n",
        "                              n_components=3,\n",
        "                              ).fit_transform(np_rep)\n",
        "    \n",
        "        scatter_embeddings = embeddings.T\n",
        "\n",
        "        embs.append(embeddings)\n",
        "        scatter_embs.append(scatter_embeddings)\n",
        "\n",
        "    draw_embs = pacmap.PaCMAP(\n",
        "                    n_neighbors=50,\n",
        "                    n_components=2,\n",
        "                    ).fit_transform(embs[-1]).T\n",
        "    \"\"\""
      ]
    },
    {
      "cell_type": "code",
      "source": [
        "if check_entropy:\n",
        "    temp_tau = 10\n",
        "\n",
        "    class Bin:\n",
        "        def __init__(self, lower_bounds, upper_bounds):\n",
        "            self.dim = len(lower_bounds)\n",
        "            self.lower_bounds = lower_bounds\n",
        "            self.upper_bounds = upper_bounds\n",
        "            self.bin_count = 0\n",
        "\n",
        "        def in_bin(self, item, add=True):\n",
        "            in_bin = True\n",
        "            for i in range(self.dim):\n",
        "                if item[i] < self.lower_bounds[i] or item[i] >= self.upper_bounds[i]:\n",
        "                    in_bin = False\n",
        "            if in_bin and add:\n",
        "                self.add_to_bin()\n",
        "            return in_bin\n",
        "        \n",
        "        def add_to_bin(self):\n",
        "            self.bin_count += 1\n",
        "\n",
        "    def get_entropy(dist, eps=1e-8):\n",
        "        return(-np.sum(np.multiply(dist, np.log(dist+eps))))\n",
        "\n",
        "    def get_norm_entropy(dist):\n",
        "        n = len(dist)\n",
        "        uni_dist = np.asarray([1/n]*n)\n",
        "        uni_entropy = get_entropy(uni_dist)\n",
        "        return get_entropy(dist)/uni_entropy\n",
        "\n",
        "    def bin_data(emb, sigma_factor=0.4, res_f=None):\n",
        "        # only for low-dim\n",
        "        dataset = emb\n",
        "        bin_dims = []\n",
        "        bins_len = 1\n",
        "        bin_ranges = []\n",
        "        \n",
        "        dim = emb.shape[-1]\n",
        "\n",
        "        abs_min, abs_max = [], []\n",
        "\n",
        "        for i in range(dim):\n",
        "            abs_min.append(np.min(emb.T[i]))\n",
        "            abs_max.append(np.max(emb.T[i]))\n",
        "        abs_min = np.asarray(abs_min)\n",
        "        abs_max = np.asarray(abs_max)\n",
        "\n",
        "\n",
        "        dist_mean = np.mean(emb, axis=0)\n",
        "        dist_std = np.std(emb, axis=0)\n",
        "\n",
        "        diff = abs_max-abs_min         \n",
        "        if res_f:\n",
        "            unit = [np.min(diff)/res_f]*dim\n",
        "        else:\n",
        "            unit = sigma_factor*dist_std\n",
        "        for i in range(dim):\n",
        "            bin_range = np.arange(abs_min[i], abs_max[i]+unit[i], unit[i])\n",
        "            print(\"Dim {} bin count: {}\".format(i, len(bin_range)-1))\n",
        "            bin_ranges.append(bin_range)\n",
        "\n",
        "        for bin_range in bin_ranges:\n",
        "            bins_len *= len(bin_range)-1\n",
        "            bin_dims.append(len(bin_range)-1)\n",
        "        \n",
        "        bins = np.empty(bins_len, dtype=object)\n",
        "        bin_count = np.zeros(bins_len)\n",
        "\n",
        "        for i in range(bins_len):\n",
        "            coords = np.unravel_index(i, bin_dims)\n",
        "            min = []\n",
        "            max = []\n",
        "            for j in range(len(coords)):\n",
        "                min.append(bin_ranges[j][coords[j]])\n",
        "                max.append(bin_ranges[j][coords[j]+1]) \n",
        "            \n",
        "            bins[i] = Bin(lower_bounds=min, upper_bounds=max)\n",
        "        \n",
        "        for sample in emb:\n",
        "            for bin in bins:\n",
        "                sample_in_bin = bin.in_bin(sample)\n",
        "                if sample_in_bin:\n",
        "                    break\n",
        "\n",
        "        for i in range(len(bins)):\n",
        "            bin_count[i] = bins[i].bin_count\n",
        "        \n",
        "        print(\"Total binned data:\", sum(bin_count)) \n",
        "        print(\"Total bins:\", len(bins))\n",
        "        print(\"Sanity check:\", sum(bin_count/sum(bin_count)))\n",
        "        return bin_count/sum(bin_count)\n",
        "\n",
        "    avg_e = []\n",
        "    #avg_ne = []\n",
        "    for i in range(n_trials):\n",
        "        dist = bin_data(embs[i])\n",
        "        #dist = bin_data(embs[i], res_f=10)\n",
        "        e = get_entropy(dist)\n",
        "        #ne = get_norm_entropy(dist)\n",
        "        print(\"\\tTrial entropy:\", e)\n",
        "        #print(\"\\tTrial normalized entropy:\", ne)\n",
        "        avg_e.append(e)\n",
        "        #avg_ne.append(ne)\n",
        "    print(\"Epoch examined:\", rep_epoch)\n",
        "    print(\"Entropy:\", np.average(avg_e))\n",
        "    #print(\"Normalized entropy:\", np.average(avg_ne))\n",
        "\n",
        "    del dist"
      ],
      "metadata": {
        "id": "nappbi2R5tpY",
        "colab": {
          "base_uri": "https://localhost:8080/"
        },
        "outputId": "917f9663-2551-47aa-e437-fd98a0d4bc4e"
      },
      "execution_count": null,
      "outputs": [
        {
          "output_type": "stream",
          "name": "stdout",
          "text": [
            "Dim 0 bin count: 16\n",
            "Dim 1 bin count: 18\n",
            "Dim 2 bin count: 19\n",
            "Total binned data: 10000.0\n",
            "Total bins: 5472\n",
            "Sanity check: 0.9999999999999948\n",
            "\tTrial entropy: 6.1025661985768895\n",
            "Epoch examined: 60\n",
            "Entropy: 6.1025661985768895\n"
          ]
        }
      ]
    },
    {
      "cell_type": "code",
      "execution_count": null,
      "metadata": {
        "id": "sApEJluvelT4",
        "colab": {
          "base_uri": "https://localhost:8080/",
          "height": 54
        },
        "outputId": "aee3fbdd-78cf-4e3d-d8c6-03041909d6e1"
      },
      "outputs": [
        {
          "output_type": "display_data",
          "data": {
            "text/plain": [
              "<Figure size 432x288 with 1 Axes>"
            ],
            "image/png": "[encoded data removed]"
          },
          "metadata": {
            "needs_background": "light"
          }
        }
      ],
      "source": [
        "if check_clustering:\n",
        "    scatter_plot(name, draw_embs, label_array, size)"
      ]
    },
    {
      "cell_type": "code",
      "execution_count": null,
      "metadata": {
        "id": "LNhVH294enVR"
      },
      "outputs": [],
      "source": [
        "if check_clustering: \n",
        "    from sklearn.cluster import KMeans\n",
        "\n",
        "    n_factor_1 = 1\n",
        "    n_factor_2 = 2\n",
        "    base_cluster_label_array = []\n",
        "    cluster_label_array = []\n",
        "\n",
        "    for i in range(n_trials):\n",
        "        means_clustering = KMeans(\n",
        "            n_clusters=num_classes*n_factor_1, \n",
        "            init='k-means++',\n",
        "            ).fit(embs[i])\n",
        "\n",
        "        kmeans_labs = kmeans_clustering.labels_\n",
        "\n",
        "        kmeans_clustering_alt = KMeans(\n",
        "            n_clusters=int(num_classes*n_factor_2), \n",
        "            init='k-means++',\n",
        "            ).fit(embs[i])\n",
        "\n",
        "        kmeans_labs_alt = kmeans_clustering_alt.labels_\n",
        "\n",
        "        base_cluster_label_array.append(kmeans_labs)\n",
        "        cluster_label_array.append(kmeans_labs_alt)"
      ]
    },
    {
      "cell_type": "code",
      "execution_count": null,
      "metadata": {
        "id": "MPvlSruhewu0"
      },
      "outputs": [],
      "source": [
        "if check_clustering:\n",
        "    from sklearn.metrics import davies_bouldin_score, silhouette_score, calinski_harabasz_score\n",
        "\n",
        "    s_score = []\n",
        "    db_score = []\n",
        "    ch_score = []\n",
        " \n",
        "    for cluster_lab in base_cluster_label_array:\n",
        "        s_score.append(silhouette_score(tensor_rep, cluster_lab))\n",
        "\n",
        "        db_score.append(davies_bouldin_score(tensor_rep, cluster_lab))\n",
        "\n",
        "        ch_score.append(calinski_harabasz_score(tensor_rep, cluster_lab))\n",
        "\n",
        "    s_score_gt = silhouette_score(tensor_rep, label_array)\n",
        "    db_score_gt = davies_bouldin_score(tensor_rep, label_array)\n",
        "    ch_score_gt = calinski_harabasz_score(tensor_rep, label_array)\n"
      ]
    },
    {
      "cell_type": "code",
      "execution_count": null,
      "metadata": {
        "id": "O2pRpSwUez5a",
        "colab": {
          "base_uri": "https://localhost:8080/",
          "height": 282
        },
        "outputId": "c5164908-2fd0-4cb4-be44-2f51bd32cf2a"
      },
      "outputs": [
        {
          "output_type": "stream",
          "name": "stdout",
          "text": [
            "k-means clustering attempt 1...\n"
          ]
        },
        {
          "output_type": "display_data",
          "data": {
            "text/plain": [
              "<Figure size 432x288 with 1 Axes>"
            ],
            "image/png": "[encoded data removed]"
          },
          "metadata": {
            "needs_background": "light"
          }
        }
      ],
      "source": [
        "if check_clustering: \n",
        "    print(\"k-means clustering attempt 1...\")\n",
        "    scatter_plot(name, draw_embs, base_cluster_label_array[-1], size)"
      ]
    },
    {
      "cell_type": "markdown",
      "metadata": {
        "id": "t9Vu3Id4TsV_"
      },
      "source": []
    },
    {
      "cell_type": "code",
      "execution_count": null,
      "metadata": {
        "id": "I7DCHJTue6sV",
        "colab": {
          "base_uri": "https://localhost:8080/",
          "height": 72
        },
        "outputId": "3576a31c-4db8-4e4e-80e1-623136483911"
      },
      "outputs": [
        {
          "output_type": "stream",
          "name": "stdout",
          "text": [
            "k-means clustering attempt 2...\n"
          ]
        },
        {
          "output_type": "display_data",
          "data": {
            "text/plain": [
              "<Figure size 432x288 with 1 Axes>"
            ],
            "image/png": "[encoded data removed]"
          },
          "metadata": {
            "needs_background": "light"
          }
        }
      ],
      "source": [
        "if check_clustering:\n",
        "    print(\"k-means clustering attempt 2...\")\n",
        "    scatter_plot(name, draw_embs, cluster_label_array[-1], size)"
      ]
    },
    {
      "cell_type": "code",
      "execution_count": null,
      "metadata": {
        "id": "mZZW6IgTfAmH",
        "colab": {
          "base_uri": "https://localhost:8080/"
        },
        "outputId": "aa83fde4-992a-4530-af17-9b4012a0eec4"
      },
      "outputs": [
        {
          "output_type": "stream",
          "name": "stdout",
          "text": [
            "SSL Loss: 4.505162366886728\n",
            "\n",
            "\n",
            "Extrinsic measures\n",
            "-----\n",
            "\n",
            "Adjusted mutual information: 0.11041597940124012\n",
            "Normalized mutual information: 0.21567760769893599\n",
            "Adjusted Rand index: 0.01826329385324798\n",
            "V-score: 0.21567760769893599\n",
            "\n",
            "\n",
            "Intrinsic measures\n",
            "-----\n",
            "\n",
            "Silhouette score: -0.025357892150991778\n",
            "Silhouette score (GT): -0.07025061286440108\n",
            "Davies Bouldin score: 4.540267933254056\n",
            "Davies Bouldin score (GT): 8.255822640733866\n",
            "Calinski Harabasz score: 54.134709818952246\n",
            "Calinski Harabasz score (GT): 14.768462216737724\n",
            "\n",
            "\n",
            "Clustering attempts comparison\n",
            "-----\n",
            "\n",
            "CV Raw: 0.7470431423543247\n",
            "Adjusted mutual information: 0.7142925869126765\n",
            "Adjusted mutual information (scaled): 0.6550791283791996\n",
            "Adjusted mutual information standard deviation: 0.0\n",
            "Adjusted Rand index: 0.38736621877759847\n",
            "Adjusted Rand index standard deviation: 0.0\n"
          ]
        }
      ],
      "source": [
        "if check_clustering:\n",
        "    from sklearn.metrics import adjusted_mutual_info_score, adjusted_rand_score, normalized_mutual_info_score, v_measure_score\n",
        "    tau = 0.3\n",
        "\n",
        "    ami_list = []\n",
        "    nmi_list = []\n",
        "    ari_list = []\n",
        "    v_score_list = []\n",
        "\n",
        "    ami_compare_list = []\n",
        "    ari_compare_list = []\n",
        "\n",
        "    uni_scalar = []\n",
        "\n",
        "    for i in range(n_trials):\n",
        "        ami_list.append(adjusted_mutual_info_score(label_array, base_cluster_label_array[i]))\n",
        "        nmi_list.append(normalized_mutual_info_score(label_array, base_cluster_label_array[i]))\n",
        "        ari_list.append(adjusted_rand_score(label_array, base_cluster_label_array[i]))\n",
        "        v_score_list.append(v_measure_score(label_array, base_cluster_label_array[i]))\n",
        "\n",
        "        ami_cluster_compare = adjusted_mutual_info_score(cluster_label_array[i], base_cluster_label_array[i])\n",
        "        ami_compare_list.append(ami_cluster_compare)\n",
        "\n",
        "        ari_cluster_compare = adjusted_rand_score(cluster_label_array[i], base_cluster_label_array[i])\n",
        "        ari_compare_list.append(ari_cluster_compare)\n",
        "\n",
        "        avg_dist, avg_std = nn_avg_dist(embs[i])\n",
        "        uni_scalar.append(avg_std/avg_dist)\n",
        "\n",
        "    ami = np.average(ami_list)\n",
        "\n",
        "    cv = 1-np.exp(-np.average(uni_scalar)/tau)\n",
        "\n",
        "    nmi = np.average(nmi_list)\n",
        "    ari = np.average(ari_list)\n",
        "    v_score = np.average(v_score_list)\n",
        "\n",
        "    avg_ami = np.average(ami_compare_list)\n",
        "    std_ami = np.std(ami_compare_list)\n",
        "\n",
        "    avg_ari = np.average(ari_compare_list)\n",
        "    std_ari = np.std(ari_compare_list)\n",
        "\n",
        "    print(\"SSL Loss:\", rep_losses[-1])\n",
        "\n",
        "    # Extrinsic measures\n",
        "    print(\"\\n\")\n",
        "    print(\"Extrinsic measures\\n-----\\n\")\n",
        "    print(\"Adjusted mutual information:\", ami)\n",
        "    print(\"Normalized mutual information:\", nmi)\n",
        "    print(\"Adjusted Rand index:\", ari)\n",
        "    print(\"V-score:\", v_score)\n",
        "\n",
        "    # Intrinsic measures\n",
        "    print(\"\\n\")\n",
        "    print(\"Intrinsic measures\\n-----\\n\")\n",
        "    print(\"Silhouette score:\", np.average(s_score))\n",
        "    print(\"Silhouette score (GT):\", s_score_gt)\n",
        "\n",
        "    print(\"Davies Bouldin score:\", np.average(db_score))\n",
        "    print(\"Davies Bouldin score (GT):\", db_score_gt)\n",
        "\n",
        "    print(\"Calinski Harabasz score:\", np.average(ch_score))\n",
        "    print(\"Calinski Harabasz score (GT):\", ch_score_gt)\n",
        "\n",
        "    print(\"\\n\")\n",
        "    print(\"Clustering attempts comparison\\n-----\\n\")\n",
        "    print(\"CV Raw:\", np.average(uni_scalar))\n",
        "    print(\"Adjusted mutual information:\", avg_ami)\n",
        "    print(\"Adjusted mutual information (scaled):\", cv*avg_ami)\n",
        "    print(\"Adjusted mutual information standard deviation:\", std_ami)\n",
        "    print(\"Adjusted Rand index:\", avg_ari)\n",
        "    print(\"Adjusted Rand index standard deviation:\", std_ari)"
      ]
    },
    {
      "cell_type": "code",
      "source": [
        "if linear_probe:\n",
        "    del embeddings\n",
        "    del scatter_embeddings\n",
        "    del embs\n",
        "    del scatter_embs\n",
        "    del model"
      ],
      "metadata": {
        "id": "matxlue06AKA"
      },
      "execution_count": null,
      "outputs": []
    },
    {
      "cell_type": "markdown",
      "metadata": {
        "id": "dM345lf1IYuF"
      },
      "source": [
        "# **Linear Probe**"
      ]
    },
    {
      "cell_type": "code",
      "execution_count": null,
      "metadata": {
        "id": "JM100QJiIXrX"
      },
      "outputs": [],
      "source": [
        "if linear_probe:\n",
        "    class LinearProbeClassifier(nn.Module):\n",
        "\n",
        "        def __init__(self, encoder, num_classes):\n",
        "            super(LinearProbeClassifier, self).__init__()\n",
        "            self.encoder = encoder\n",
        "            set_requires_grad(self.encoder, False)\n",
        "\n",
        "            prev_dim = get_output_shape(self.encoder)[1]\n",
        "            \n",
        "            self.classifier = nn.Sequential(\n",
        "                nn.Linear(prev_dim, num_classes)\n",
        "            )\n",
        "\n",
        "        def forward(self, x):\n",
        "            with torch.no_grad():\n",
        "                r = self.encoder(x)\n",
        "            c = self.classifier(r)\n",
        "            return c"
      ]
    },
    {
      "cell_type": "code",
      "execution_count": null,
      "metadata": {
        "id": "BoC5gZtmNYzV"
      },
      "outputs": [],
      "source": [
        "if linear_probe:\n",
        "    # Linear probe parameters and initializations\n",
        "    sl_epochs = 20\n",
        "    rep_model = \"resnet18\"\n",
        "    rep_dataset = dataset_choice\n",
        "    rep_model_path = origin_path_root + \"_{}_{}_e{}.pth\".format(rep_dataset, rep_model, rep_epoch)\n",
        "\n",
        "    def train_sl_epoch(model, train_loader, criterion, optimizer, scheduler):\n",
        "        epoch_loss = []\n",
        "        epoch_acc = []\n",
        "\n",
        "        # switch to train mode\n",
        "        model.train()\n",
        "\n",
        "        for i, (images, labs) in enumerate(train_loader):\n",
        "            loss, acc = sl_batch_calc(model, criterion, images, labs)\n",
        "\n",
        "            # compute gradient and do SGD step\n",
        "            optimizer.zero_grad()\n",
        "            loss.backward()\n",
        "            optimizer.step()\n",
        "            scheduler.step()\n",
        "\n",
        "            epoch_loss.append(loss.item())\n",
        "            epoch_acc.append(acc)\n",
        "\n",
        "        model.eval()\n",
        "\n",
        "        return np.average(epoch_loss), np.average(epoch_acc)\n",
        "\n",
        "    def train_sl(model, train_loader, test_loader, sl_epochs, lr=0.08, weight_decay=1e-4, load=False, parallel=True):\n",
        "        sl_losses = []\n",
        "        sl_accs = []\n",
        "        test_loss = []\n",
        "        test_acc = []\n",
        "\n",
        "        if parallel:\n",
        "            checkpoint_path = \"/content/gdrive/MyDrive/SSLLinProbes/checkpoint_{}.pth\".format(model.module.encoder.arch)\n",
        "        else:\n",
        "            checkpoint_path = \"/content/gdrive/MyDrive/SSLLinProbes/checkpoint_{}.pth\".format(model.encoder.arch)\n",
        "\n",
        "        criterion = nn.CrossEntropyLoss()\n",
        "        optimizer = torch.optim.Adam(\n",
        "                          model.parameters(), lr=lr, weight_decay=weight_decay\n",
        "                      )\n",
        "        scheduler = torch.optim.lr_scheduler.OneCycleLR(optimizer=optimizer, max_lr=lr, total_steps=sl_epochs*int(len(train_loader)), pct_start=0.3)\n",
        "        \n",
        "        if load:\n",
        "            model_dict, optimizer_dict, scheduler_dict, start_epoch, sl_losses, sl_accs = load_checkpoint(checkpoint_path)\n",
        "            if parallel:\n",
        "                model.module.load_state_dict(model_dict)\n",
        "            else:\n",
        "                model.load_state_dict(model_dict)\n",
        "            optimizer.load_state_dict(optimizer_dict)\n",
        "            scheduler.load_state_dict(scheduler_dict)\n",
        "\n",
        "        else:\n",
        "            start_epoch = 0\n",
        "\n",
        "        for epoch in range(start_epoch, sl_epochs):\n",
        "            print(\"Training SL Epoch {}/{}...\".format(epoch+1, sl_epochs))\n",
        "            sl_loss, sl_acc =  train_sl_epoch(model, train_loader, criterion, optimizer, scheduler)\n",
        "            sl_losses.append(sl_loss)\n",
        "            sl_accs.append(sl_acc)\n",
        "\n",
        "            print(\" SL Loss: {}\".format(sl_losses[-1]))\n",
        "            print(\" SL Accuracy: {}\".format(sl_accs[-1]))\n",
        "\n",
        "            save_checkpoint(\n",
        "                filepath=checkpoint_path, \n",
        "                curr_epoch=epoch+1, \n",
        "                model=model,\n",
        "                losses=sl_losses, \n",
        "                acc=sl_accs, \n",
        "                optimizer=optimizer,\n",
        "                scheduler=scheduler,\n",
        "                parallel=parallel\n",
        "                )\n",
        "\n",
        "        model.eval()\n",
        "        for i, (images, labs) in enumerate(test_loader):\n",
        "            loss, acc = sl_batch_calc(model, criterion, images, labs)\n",
        "\n",
        "            test_loss.append(loss.item())\n",
        "            test_acc.append(acc)\n",
        "            \n",
        "\n",
        "        return sl_losses, sl_accs, np.average(test_loss), np.average(test_acc)"
      ]
    },
    {
      "cell_type": "code",
      "execution_count": null,
      "metadata": {
        "id": "xz9Q_-npURDr"
      },
      "outputs": [],
      "source": [
        "if linear_probe:\n",
        "    model = MoCo(base_encoder=\"resnet18\", proj_dims=proj_dims)\n",
        "    rep_model_dict, _, _, _, rep_losses, _ = load_checkpoint(rep_model_path)\n",
        "    model.load_state_dict(rep_model_dict)\n",
        "    model = model.encoder_q\n",
        "    model = LinearProbeClassifier(encoder=model, num_classes=class_count_dict[rep_dataset])\n",
        "    if parallel:\n",
        "        model = nn.DataParallel(model)\n",
        "    model.to(device)"
      ]
    },
    {
      "cell_type": "code",
      "execution_count": null,
      "metadata": {
        "id": "UT9C669EaGOi"
      },
      "outputs": [],
      "source": [
        "if linear_probe:\n",
        "    sl_losses, sl_accs, test_loss, test_acc, = train_sl(model, train_loader=lp_loader, test_loader=test_loader, sl_epochs=sl_epochs, load=False, parallel=parallel)"
      ]
    },
    {
      "cell_type": "code",
      "execution_count": null,
      "metadata": {
        "id": "BWPANR-EbLvY"
      },
      "outputs": [],
      "source": [
        "if linear_probe:\n",
        "    progress_plot(data=sl_losses, x_lab=\"Epochs\", y_lab=\"SL Loss\")\n",
        "    print(test_loss)"
      ]
    },
    {
      "cell_type": "code",
      "execution_count": null,
      "metadata": {
        "id": "0ku0GlA2bZHr"
      },
      "outputs": [],
      "source": [
        "if linear_probe:\n",
        "    progress_plot(data=sl_accs, x_lab=\"Epochs\", y_lab=\"SL Accuracy\")\n",
        "    print(test_acc)"
      ]
    }
  ],
  "metadata": {
    "accelerator": "GPU",
    "colab": {
      "collapsed_sections": [
        "t_FlItmiRvwL",
        "LxkKZKUDjhOc",
        "nDU11ZiPTS3u"
      ],
      "machine_shape": "hm",
      "provenance": []
    },
    "kernelspec": {
      "display_name": "Python 3 (ipykernel)",
      "language": "python",
      "name": "python3"
    },
    "language_info": {
      "codemirror_mode": {
        "name": "ipython",
        "version": 3
      },
      "file_extension": ".py",
      "mimetype": "text/x-python",
      "name": "python",
      "nbconvert_exporter": "python",
      "pygments_lexer": "ipython3",
      "version": "3.9.12"
    }
  },
  "nbformat": 4,
  "nbformat_minor": 0
}